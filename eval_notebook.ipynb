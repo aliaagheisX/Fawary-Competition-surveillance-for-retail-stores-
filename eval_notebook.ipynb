{
 "cells": [
  {
   "cell_type": "code",
   "execution_count": 2,
   "metadata": {},
   "outputs": [],
   "source": [
    "import os\n",
    "import sys\n",
    "import json\n",
    "from pathlib import Path\n",
    "sys.path.append(os.path.abspath('./TrackEval'))\n",
    "sys.path.append(os.path.abspath('./src'))\n",
    "\n",
    "import pandas as pd"
   ]
  },
  {
   "cell_type": "code",
   "execution_count": 3,
   "metadata": {},
   "outputs": [],
   "source": [
    "from dataset import df_train\n",
    "\n",
    "from trackeval import Evaluator, datasets, metrics"
   ]
  },
  {
   "cell_type": "code",
   "execution_count": 4,
   "metadata": {},
   "outputs": [],
   "source": [
    "# take sample of gt\n",
    "sample_dir = Path(\"./datasets/my_sample/gt/MOT20-train/MOT20-02/gt\")\n",
    "sample_dir.mkdir(exist_ok=True, parents=True)\n",
    "\n",
    "\n",
    "df_train.query('vid == \"02\" & fnum <= 1000 ') \\\n",
    "        .drop([\"vid\"], axis=1) \\\n",
    "        .to_csv(sample_dir/\"gt.txt\", header=None, index=None)"
   ]
  },
  {
   "cell_type": "code",
   "execution_count": 5,
   "metadata": {},
   "outputs": [],
   "source": [
    "# move it to\n",
    "TRACKERS_TO_EVAL = \"F\"\n",
    "\n",
    "tracker_dir = Path(f\"./datasets/my_sample/trackers/MOT20-train/{TRACKERS_TO_EVAL}/data\")\n",
    "tracker_dir.mkdir(exist_ok=True, parents=True)\n",
    "\n",
    "df_tracker = pd.read_csv(\"a.csv\").drop(['Unnamed: 0'], axis=1)\n",
    "df_tracker.to_csv(tracker_dir / 'MOT20-02.txt', header=None, index=None)"
   ]
  },
  {
   "cell_type": "code",
   "execution_count": 6,
   "metadata": {},
   "outputs": [],
   "source": [
    "from constants import DATA_DIR"
   ]
  },
  {
   "cell_type": "code",
   "execution_count": 7,
   "metadata": {},
   "outputs": [
    {
     "name": "stdout",
     "output_type": "stream",
     "text": [
      "\n",
      "MotChallenge2DBox Config:\n",
      "GT_FOLDER            : /home/aliaagheis/projects/Fawary-Competition-surveillance-for-retail-stores-/datasets/my_sample/gt\n",
      "TRACKERS_FOLDER      : /home/aliaagheis/projects/Fawary-Competition-surveillance-for-retail-stores-/datasets/my_sample/trackers\n",
      "TRACKERS_TO_EVAL     : F                             \n",
      "SEQMAP_FILE          : /home/aliaagheis/projects/Fawary-Competition-surveillance-for-retail-stores-/datasets/my_sample/gt/seqmaps/MOT20-train.txt\n",
      "BENCHMARK            : MOT20                         \n",
      "OUTPUT_FOLDER        : None                          \n",
      "CLASSES_TO_EVAL      : ['pedestrian']                \n",
      "SPLIT_TO_EVAL        : train                         \n",
      "INPUT_AS_ZIP         : False                         \n",
      "PRINT_CONFIG         : True                          \n",
      "DO_PREPROC           : True                          \n",
      "TRACKER_SUB_FOLDER   : data                          \n",
      "OUTPUT_SUB_FOLDER    :                               \n",
      "TRACKER_DISPLAY_NAMES : None                          \n",
      "SEQMAP_FOLDER        : None                          \n",
      "SEQ_INFO             : None                          \n",
      "GT_LOC_FORMAT        : {gt_folder}/{seq}/gt/gt.txt   \n",
      "SKIP_SPLIT_FOL       : False                         \n"
     ]
    }
   ],
   "source": [
    "dataset_config = {\n",
    "    \"GT_FOLDER\": str(DATA_DIR / \"my_sample/gt\"),  \n",
    "    \"TRACKERS_FOLDER\": str(DATA_DIR / \"my_sample/trackers\"),\n",
    "    \"TRACKERS_TO_EVAL\": TRACKERS_TO_EVAL,\n",
    "    \"SEQMAP_FILE\": str(DATA_DIR / \"my_sample/gt/seqmaps/MOT20-train.txt\"), \n",
    "    \"BENCHMARK\": \"MOT20\",  # ✅ Keep MOT20 format\n",
    "}\n",
    "\n",
    "dataset = datasets.MotChallenge2DBox(dataset_config)"
   ]
  },
  {
   "cell_type": "code",
   "execution_count": 8,
   "metadata": {},
   "outputs": [
    {
     "name": "stdout",
     "output_type": "stream",
     "text": [
      "\n",
      "Eval Config:\n",
      "USE_PARALLEL         : False                         \n",
      "NUM_PARALLEL_CORES   : 8                             \n",
      "BREAK_ON_ERROR       : True                          \n",
      "RETURN_ON_ERROR      : False                         \n",
      "LOG_ON_ERROR         : /home/aliaagheis/projects/Fawary-Competition-surveillance-for-retail-stores-/TrackEval/error_log.txt\n",
      "PRINT_RESULTS        : True                          \n",
      "PRINT_ONLY_COMBINED  : False                         \n",
      "PRINT_CONFIG         : True                          \n",
      "TIME_PROGRESS        : True                          \n",
      "DISPLAY_LESS_PROGRESS : True                          \n",
      "OUTPUT_SUMMARY       : True                          \n",
      "OUTPUT_EMPTY_CLASSES : True                          \n",
      "OUTPUT_DETAILED      : True                          \n",
      "PLOT_CURVES          : True                          \n",
      "\n",
      "Evaluating 1 tracker(s) on 1 sequence(s) for 1 class(es) on MotChallenge2DBox dataset using the following metrics: HOTA, Count\n",
      "\n",
      "\n",
      "Evaluating F\n",
      "\n",
      "1 eval_sequence(MOT20-02, F)                                             2.3240 sec\n",
      "\n",
      "All sequences for F finished in 2.32 seconds\n",
      "\n",
      "HOTA: F-pedestrian                 HOTA      DetA      AssA      DetRe     DetPr     AssRe     AssPr     LocA      OWTA      HOTA(0)   LocA(0)   HOTALocA(0)\n",
      "MOT20-02                           37.645    39.516    36.479    43.074    69.048    40.148    70.082    77.973    39.482    51.536    70.684    36.428    \n",
      "COMBINED                           37.645    39.516    36.479    43.074    69.048    40.148    70.082    77.973    39.482    51.536    70.684    36.428    \n",
      "\n",
      "Count: F-pedestrian                Dets      GT_Dets   IDs       GT_IDs    \n",
      "MOT20-02                           27639     44306     340       114       \n",
      "COMBINED                           27639     44306     340       114       \n"
     ]
    },
    {
     "data": {
      "text/plain": [
       "<Figure size 640x480 with 0 Axes>"
      ]
     },
     "metadata": {},
     "output_type": "display_data"
    }
   ],
   "source": [
    "metric = metrics.HOTA()\n",
    "evaluator = Evaluator()\n",
    "\n",
    "# Run evaluation\n",
    "result = evaluator.evaluate([dataset], [metric])"
   ]
  },
  {
   "cell_type": "code",
   "execution_count": null,
   "metadata": {},
   "outputs": [],
   "source": []
  }
 ],
 "metadata": {
  "kernelspec": {
   "display_name": "fast_env",
   "language": "python",
   "name": "python3"
  },
  "language_info": {
   "codemirror_mode": {
    "name": "ipython",
    "version": 3
   },
   "file_extension": ".py",
   "mimetype": "text/x-python",
   "name": "python",
   "nbconvert_exporter": "python",
   "pygments_lexer": "ipython3",
   "version": "3.12.3"
  }
 },
 "nbformat": 4,
 "nbformat_minor": 2
}
