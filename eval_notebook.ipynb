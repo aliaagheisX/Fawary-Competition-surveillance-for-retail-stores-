{
 "cells": [
  {
   "cell_type": "code",
   "execution_count": 21,
   "metadata": {},
   "outputs": [],
   "source": [
    "import os\n",
    "import sys\n",
    "import json\n",
    "from pathlib import Path\n",
    "sys.path.append(os.path.abspath('./TrackEval'))\n",
    "sys.path.append(os.path.abspath('./src'))\n",
    "\n",
    "import pandas as pd"
   ]
  },
  {
   "cell_type": "code",
   "execution_count": 6,
   "metadata": {},
   "outputs": [],
   "source": [
    "from dataset import df_train\n",
    "\n",
    "from trackeval import Evaluator, datasets, metrics"
   ]
  },
  {
   "cell_type": "code",
   "execution_count": 20,
   "metadata": {},
   "outputs": [],
   "source": [
    "# take sample of gt\n",
    "\n",
    "sample_dir = Path(\"./datasets/my_sample/gt/02/\")\n",
    "sample_dir.mkdir(exist_ok=True, parents=True)\n",
    "\n",
    "\n",
    "df_train.query('vid == \"02\" & fnum <= 1000 ') \\\n",
    "        .drop([\"vid\"], axis=1) \\\n",
    "        .to_csv(sample_dir/\"gt.txt\", header=None, index=None)"
   ]
  },
  {
   "cell_type": "code",
   "execution_count": null,
   "metadata": {},
   "outputs": [],
   "source": [
    "# move it to\n",
    "tracker_dir = Path(\"./datasets/trackers/fasterrcnn_bytetrack_zero/02/\")\n",
    "tracker_dir.mkdir(exist_ok=True, parents=True)\n",
    "\n",
    "df_tracker = pd.read_csv(\"a.csv\", header=None)"
   ]
  }
 ],
 "metadata": {
  "kernelspec": {
   "display_name": "fast_env",
   "language": "python",
   "name": "python3"
  },
  "language_info": {
   "codemirror_mode": {
    "name": "ipython",
    "version": 3
   },
   "file_extension": ".py",
   "mimetype": "text/x-python",
   "name": "python",
   "nbconvert_exporter": "python",
   "pygments_lexer": "ipython3",
   "version": "3.12.3"
  }
 },
 "nbformat": 4,
 "nbformat_minor": 2
}
