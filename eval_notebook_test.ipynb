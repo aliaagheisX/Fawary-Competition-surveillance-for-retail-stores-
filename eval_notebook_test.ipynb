{
 "cells": [
  {
   "cell_type": "code",
   "execution_count": 1,
   "metadata": {},
   "outputs": [],
   "source": [
    "import os\n",
    "import sys\n",
    "import json\n",
    "from pathlib import Path\n",
    "sys.path.append(os.path.abspath('./TrackEval'))\n",
    "sys.path.append(os.path.abspath('./src'))\n",
    "\n",
    "import pandas as pd"
   ]
  },
  {
   "cell_type": "code",
   "execution_count": 2,
   "metadata": {},
   "outputs": [],
   "source": [
    "from dataset import df_train\n",
    "\n",
    "from trackeval import Evaluator, datasets, metrics"
   ]
  },
  {
   "cell_type": "code",
   "execution_count": 3,
   "metadata": {},
   "outputs": [],
   "source": [
    "from constants import DATA_DIR"
   ]
  },
  {
   "cell_type": "code",
   "execution_count": 10,
   "metadata": {},
   "outputs": [],
   "source": [
    "# take sample of gt\n",
    "sample_dir = Path(\"./datasets/my_sample/gt/MOT20-train/MOT20-01/gt\")\n",
    "sample_dir.mkdir(exist_ok=True, parents=True)\n",
    "\n",
    "\n",
    "\n",
    "test_path_gt = DATA_DIR / \"test_gt.txt\"\n",
    "df = pd.read_csv(test_path_gt, header=None, )\n",
    "# df = df[df[0] <= 360]\n",
    "df = df[(df[7] == 1) ]\n",
    "df[7] = 1\n",
    "\n",
    "df.to_csv(sample_dir/\"gt.txt\", header=None, index=None)"
   ]
  },
  {
   "cell_type": "code",
   "execution_count": 11,
   "metadata": {},
   "outputs": [],
   "source": [
    "# move it to\n",
    "TRACKERS_TO_EVAL = \"O\"\n",
    "\n",
    "tracker_dir = Path(f\"./datasets/my_sample/trackers/MOT20-train/{TRACKERS_TO_EVAL}/data\")\n",
    "tracker_dir.mkdir(exist_ok=True, parents=True)\n",
    "\n",
    "df_tracker = pd.read_csv(\"fasterrcnn_batch8_freeze_test.csv\")#.drop(['Unnamed: 0'], axis=1)\n",
    "df_tracker.to_csv(tracker_dir / 'MOT20-01.txt', header=None, index=None)"
   ]
  },
  {
   "cell_type": "code",
   "execution_count": 12,
   "metadata": {},
   "outputs": [
    {
     "name": "stdout",
     "output_type": "stream",
     "text": [
      "\n",
      "MotChallenge2DBox Config:\n",
      "GT_FOLDER            : /home/aliaagheis/projects/Fawary-Competition-surveillance-for-retail-stores-/datasets/my_sample/gt\n",
      "TRACKERS_FOLDER      : /home/aliaagheis/projects/Fawary-Competition-surveillance-for-retail-stores-/datasets/my_sample/trackers\n",
      "TRACKERS_TO_EVAL     : O                             \n",
      "SEQMAP_FILE          : /home/aliaagheis/projects/Fawary-Competition-surveillance-for-retail-stores-/datasets/my_sample/gt/seqmaps/MOT20-train.txt\n",
      "BENCHMARK            : MOT20                         \n",
      "OUTPUT_FOLDER        : None                          \n",
      "CLASSES_TO_EVAL      : ['pedestrian']                \n",
      "SPLIT_TO_EVAL        : train                         \n",
      "INPUT_AS_ZIP         : False                         \n",
      "PRINT_CONFIG         : True                          \n",
      "DO_PREPROC           : True                          \n",
      "TRACKER_SUB_FOLDER   : data                          \n",
      "OUTPUT_SUB_FOLDER    :                               \n",
      "TRACKER_DISPLAY_NAMES : None                          \n",
      "SEQMAP_FOLDER        : None                          \n",
      "SEQ_INFO             : None                          \n",
      "GT_LOC_FORMAT        : {gt_folder}/{seq}/gt/gt.txt   \n",
      "SKIP_SPLIT_FOL       : False                         \n"
     ]
    }
   ],
   "source": [
    "dataset_config = {\n",
    "    \"GT_FOLDER\": str(DATA_DIR / \"my_sample/gt\"),  \n",
    "    \"TRACKERS_FOLDER\": str(DATA_DIR / \"my_sample/trackers\"),\n",
    "    \"TRACKERS_TO_EVAL\": TRACKERS_TO_EVAL,\n",
    "    \"SEQMAP_FILE\": str(DATA_DIR / \"my_sample/gt/seqmaps/MOT20-train.txt\"), \n",
    "    \"BENCHMARK\": \"MOT20\",  # ✅ Keep MOT20 format\n",
    "}\n",
    "\n",
    "dataset = datasets.MotChallenge2DBox(dataset_config)"
   ]
  },
  {
   "cell_type": "code",
   "execution_count": 13,
   "metadata": {},
   "outputs": [
    {
     "name": "stdout",
     "output_type": "stream",
     "text": [
      "\n",
      "Eval Config:\n",
      "USE_PARALLEL         : False                         \n",
      "NUM_PARALLEL_CORES   : 8                             \n",
      "BREAK_ON_ERROR       : True                          \n",
      "RETURN_ON_ERROR      : False                         \n",
      "LOG_ON_ERROR         : /home/aliaagheis/projects/Fawary-Competition-surveillance-for-retail-stores-/TrackEval/error_log.txt\n",
      "PRINT_RESULTS        : True                          \n",
      "PRINT_ONLY_COMBINED  : False                         \n",
      "PRINT_CONFIG         : True                          \n",
      "TIME_PROGRESS        : True                          \n",
      "DISPLAY_LESS_PROGRESS : True                          \n",
      "OUTPUT_SUMMARY       : True                          \n",
      "OUTPUT_EMPTY_CLASSES : True                          \n",
      "OUTPUT_DETAILED      : True                          \n",
      "PLOT_CURVES          : True                          \n",
      "\n",
      "Evaluating 1 tracker(s) on 2 sequence(s) for 1 class(es) on MotChallenge2DBox dataset using the following metrics: HOTA, Count\n",
      "\n",
      "\n",
      "Evaluating O\n",
      "\n",
      "7 eval_sequence(MOT20-01, O)                                             1.0653 sec\n",
      "8 eval_sequence(MOT20-02, O)                                             1.9969 sec\n",
      "\n",
      "All sequences for O finished in 3.06 seconds\n",
      "\n",
      "HOTA: O-pedestrian                 HOTA      DetA      AssA      DetRe     DetPr     AssRe     AssPr     LocA      OWTA      HOTA(0)   LocA(0)   HOTALocA(0)\n",
      "MOT20-01                           47.347    52.254    43.591    61.008    69.262    49.199    65.849    81.476    51.407    60.951    74.671    45.513    \n",
      "MOT20-02                           47.638    55.02     41.591    64.984    69.922    46.77     67.161    82.629    51.932    60.596    76.445    46.323    \n",
      "COMBINED                           47.548    54.163    42.172    63.753    69.725    47.474    66.77     82.284    51.771    60.705    75.911    46.082    \n",
      "\n",
      "Count: O-pedestrian                Dets      GT_Dets   IDs       GT_IDs    \n",
      "MOT20-01                           17502     19870     188       74        \n",
      "MOT20-02                           41177     44306     360       114       \n",
      "COMBINED                           58679     64176     548       188       \n"
     ]
    },
    {
     "data": {
      "text/plain": [
       "<Figure size 640x480 with 0 Axes>"
      ]
     },
     "metadata": {},
     "output_type": "display_data"
    }
   ],
   "source": [
    "metric = metrics.HOTA()\n",
    "evaluator = Evaluator()\n",
    "\n",
    "# Run evaluation\n",
    "result = evaluator.evaluate([dataset], [metric])"
   ]
  },
  {
   "cell_type": "code",
   "execution_count": 9,
   "metadata": {},
   "outputs": [
    {
     "name": "stdout",
     "output_type": "stream",
     "text": [
      "\n",
      "MotChallenge2DBox Config:\n",
      "GT_FOLDER            : /home/aliaagheis/projects/Fawary-Competition-surveillance-for-retail-stores-/datasets/my_sample/gt\n",
      "TRACKERS_FOLDER      : /home/aliaagheis/projects/Fawary-Competition-surveillance-for-retail-stores-/datasets/my_sample/trackers\n",
      "TRACKERS_TO_EVAL     : O                             \n",
      "SEQMAP_FILE          : /home/aliaagheis/projects/Fawary-Competition-surveillance-for-retail-stores-/datasets/my_sample/gt/seqmaps/MOT20-train.txt\n",
      "BENCHMARK            : MOT20                         \n",
      "OUTPUT_FOLDER        : None                          \n",
      "CLASSES_TO_EVAL      : ['pedestrian']                \n",
      "SPLIT_TO_EVAL        : train                         \n",
      "INPUT_AS_ZIP         : False                         \n",
      "PRINT_CONFIG         : True                          \n",
      "DO_PREPROC           : True                          \n",
      "TRACKER_SUB_FOLDER   : data                          \n",
      "OUTPUT_SUB_FOLDER    :                               \n",
      "TRACKER_DISPLAY_NAMES : None                          \n",
      "SEQMAP_FOLDER        : None                          \n",
      "SEQ_INFO             : None                          \n",
      "GT_LOC_FORMAT        : {gt_folder}/{seq}/gt/gt.txt   \n",
      "SKIP_SPLIT_FOL       : False                         \n",
      "\n",
      "Eval Config:\n",
      "USE_PARALLEL         : False                         \n",
      "NUM_PARALLEL_CORES   : 8                             \n",
      "BREAK_ON_ERROR       : True                          \n",
      "RETURN_ON_ERROR      : False                         \n",
      "LOG_ON_ERROR         : /home/aliaagheis/projects/Fawary-Competition-surveillance-for-retail-stores-/TrackEval/error_log.txt\n",
      "PRINT_RESULTS        : True                          \n",
      "PRINT_ONLY_COMBINED  : False                         \n",
      "PRINT_CONFIG         : True                          \n",
      "TIME_PROGRESS        : True                          \n",
      "DISPLAY_LESS_PROGRESS : True                          \n",
      "OUTPUT_SUMMARY       : True                          \n",
      "OUTPUT_EMPTY_CLASSES : True                          \n",
      "OUTPUT_DETAILED      : True                          \n",
      "PLOT_CURVES          : True                          \n",
      "\n",
      "Evaluating 1 tracker(s) on 2 sequence(s) for 1 class(es) on MotChallenge2DBox dataset using the following metrics: HOTA, Count\n",
      "\n",
      "\n",
      "Evaluating O\n",
      "\n",
      "5 eval_sequence(MOT20-01, O)                                             0.8291 sec\n",
      "6 eval_sequence(MOT20-02, O)                                             2.2544 sec\n",
      "\n",
      "All sequences for O finished in 3.08 seconds\n",
      "\n",
      "HOTA: O-pedestrian                 HOTA      DetA      AssA      DetRe     DetPr     AssRe     AssPr     LocA      OWTA      HOTA(0)   LocA(0)   HOTALocA(0)\n",
      "MOT20-01                           48.805    51.203    47.039    57.426    73.009    52.03     70.053    82.219    51.873    62.079    76.206    47.308    \n",
      "MOT20-02                           47.638    55.02     41.591    64.984    69.922    46.77     67.161    82.629    51.932    60.596    76.445    46.323    \n",
      "COMBINED                           47.99     53.878    43.133    62.644    70.772    48.256    67.98     82.512    51.914    61.045    76.377    46.624    \n",
      "\n",
      "Count: O-pedestrian                Dets      GT_Dets   IDs       GT_IDs    \n",
      "MOT20-01                           15629     19870     132       74        \n",
      "MOT20-02                           41177     44306     360       114       \n",
      "COMBINED                           56806     64176     492       188       \n"
     ]
    },
    {
     "data": {
      "text/plain": [
       "<Figure size 640x480 with 0 Axes>"
      ]
     },
     "metadata": {},
     "output_type": "display_data"
    }
   ],
   "source": [
    "# move it to\n",
    "TRACKERS_TO_EVAL = \"O\"\n",
    "\n",
    "tracker_dir = Path(f\"./datasets/my_sample/trackers/MOT20-train/{TRACKERS_TO_EVAL}/data\")\n",
    "tracker_dir.mkdir(exist_ok=True, parents=True)\n",
    "\n",
    "df_tracker = pd.read_csv(\"fasterrcnn_batch8_freeze_test_th07.csv\")#.drop(['Unnamed: 0'], axis=1)\n",
    "df_tracker.to_csv(tracker_dir / 'MOT20-01.txt', header=None, index=None)\n",
    "\n",
    "dataset_config = {\n",
    "    \"GT_FOLDER\": str(DATA_DIR / \"my_sample/gt\"),  \n",
    "    \"TRACKERS_FOLDER\": str(DATA_DIR / \"my_sample/trackers\"),\n",
    "    \"TRACKERS_TO_EVAL\": TRACKERS_TO_EVAL,\n",
    "    \"SEQMAP_FILE\": str(DATA_DIR / \"my_sample/gt/seqmaps/MOT20-train.txt\"), \n",
    "    \"BENCHMARK\": \"MOT20\",  # ✅ Keep MOT20 format\n",
    "}\n",
    "\n",
    "dataset = datasets.MotChallenge2DBox(dataset_config)\n",
    "metric = metrics.HOTA()\n",
    "evaluator = Evaluator()\n",
    "\n",
    "# Run evaluation\n",
    "result = evaluator.evaluate([dataset], [metric])"
   ]
  },
  {
   "cell_type": "code",
   "execution_count": null,
   "metadata": {},
   "outputs": [],
   "source": []
  }
 ],
 "metadata": {
  "kernelspec": {
   "display_name": "fast_env",
   "language": "python",
   "name": "python3"
  },
  "language_info": {
   "codemirror_mode": {
    "name": "ipython",
    "version": 3
   },
   "file_extension": ".py",
   "mimetype": "text/x-python",
   "name": "python",
   "nbconvert_exporter": "python",
   "pygments_lexer": "ipython3",
   "version": "3.12.3"
  }
 },
 "nbformat": 4,
 "nbformat_minor": 2
}
