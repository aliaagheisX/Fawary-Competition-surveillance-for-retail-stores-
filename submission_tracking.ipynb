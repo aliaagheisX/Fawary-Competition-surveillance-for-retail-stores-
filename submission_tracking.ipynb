{
 "cells": [
  {
   "cell_type": "code",
   "execution_count": 7,
   "metadata": {},
   "outputs": [],
   "source": [
    "import os\n",
    "import sys\n",
    "import json\n",
    "from pathlib import Path\n",
    "sys.path.append(os.path.abspath('./src'))\n",
    "\n",
    "import pandas as pd"
   ]
  },
  {
   "cell_type": "code",
   "execution_count": 8,
   "metadata": {},
   "outputs": [],
   "source": [
    "submission_name = \"FasterCnnByteTracking\"\n",
    "\n",
    "submission_name = submission_name + \".csv\""
   ]
  },
  {
   "cell_type": "code",
   "execution_count": 9,
   "metadata": {},
   "outputs": [],
   "source": [
    "import ast\n",
    "\n",
    "submission_dir = Path(\"submissions\")\n",
    "submission_dir.mkdir(exist_ok=True, parents=True)\n",
    "\n",
    "\n",
    "submission_file = pd.read_csv(\"submission_file.csv\")\n",
    "submission_file['objects'] = submission_file['objects'].apply(lambda x: ast.literal_eval(x))\n",
    "\n",
    "assert isinstance(submission_file['objects'].iloc[0], list), \"The first 'objects' entry is not a list!\""
   ]
  },
  {
   "cell_type": "code",
   "execution_count": 10,
   "metadata": {},
   "outputs": [],
   "source": [
    "df_tracking = pd.read_csv(\"fasterrcnn_batch8_freeze_test_th07.csv\", header=None)\n",
    "df_tracking.columns = [\"frame\", \"tracked_id\", \"x\", \"y\", \"w\", \"h\", \"confidence\", \"class\"]\n",
    "\n",
    "df_group = df_tracking.groupby('frame')[[\"tracked_id\", \"x\", \"y\", \"w\", \"h\", \"confidence\"]].apply(\n",
    "    lambda g: g.to_dict(orient=\"records\")\n",
    ")"
   ]
  },
  {
   "cell_type": "code",
   "execution_count": 11,
   "metadata": {},
   "outputs": [],
   "source": [
    "submission_file.loc[submission_file[\"objective\"] == \"tracking\", \"objects\"] = submission_file[\"frame\"].map(df_group)\n",
    "# submission_file[\"objects\"] = submission_file[\"objects\"].apply(lambda x: x if isinstance(x, list) else [])"
   ]
  },
  {
   "cell_type": "code",
   "execution_count": 12,
   "metadata": {},
   "outputs": [],
   "source": [
    "submission_file.to_csv(submission_dir / submission_name ,index=None)"
   ]
  },
  {
   "cell_type": "code",
   "execution_count": null,
   "metadata": {},
   "outputs": [],
   "source": []
  }
 ],
 "metadata": {
  "kernelspec": {
   "display_name": "fast_env",
   "language": "python",
   "name": "python3"
  },
  "language_info": {
   "codemirror_mode": {
    "name": "ipython",
    "version": 3
   },
   "file_extension": ".py",
   "mimetype": "text/x-python",
   "name": "python",
   "nbconvert_exporter": "python",
   "pygments_lexer": "ipython3",
   "version": "3.12.3"
  }
 },
 "nbformat": 4,
 "nbformat_minor": 2
}
