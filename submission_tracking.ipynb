{
 "cells": [
  {
   "cell_type": "code",
   "execution_count": 3,
   "metadata": {},
   "outputs": [],
   "source": [
    "import os\n",
    "import sys\n",
    "import json\n",
    "from pathlib import Path\n",
    "sys.path.append(os.path.abspath('./src'))\n",
    "\n",
    "import pandas as pd"
   ]
  },
  {
   "cell_type": "code",
   "execution_count": 44,
   "metadata": {},
   "outputs": [],
   "source": [
    "submission_name = \"_tracking_crowd_mot\"\n",
    "\n",
    "submission_name = submission_name + \".csv\""
   ]
  },
  {
   "cell_type": "code",
   "execution_count": 51,
   "metadata": {},
   "outputs": [],
   "source": [
    "import ast\n",
    "\n",
    "submission_dir = Path(\"submissions\")\n",
    "submission_dir.mkdir(exist_ok=True, parents=True)\n",
    "\n",
    "\n",
    "submission_file = pd.read_csv(\"submissions/first.csv\")\n",
    "submission_file['objects'] = submission_file['objects'].apply(lambda x: ast.literal_eval(x))\n",
    "\n",
    "assert isinstance(submission_file['objects'].iloc[0], list), \"The first 'objects' entry is not a list!\""
   ]
  },
  {
   "cell_type": "code",
   "execution_count": 52,
   "metadata": {},
   "outputs": [],
   "source": [
    "df_tracking = pd.read_csv(\"src/FasterRcnn/outputs/fastercnn_batch_8_epoch_3_mot20_test.csv\", header=None)\n",
    "df_tracking.columns = [\"frame\", \"tracked_id\", \"x\", \"y\", \"w\", \"h\", \"confidence\", \"class\"]\n",
    "\n",
    "df_group = df_tracking.groupby('frame')[[\"tracked_id\", \"x\", \"y\", \"w\", \"h\", \"confidence\"]].apply(\n",
    "    lambda g: g.to_dict(orient=\"records\")\n",
    ")"
   ]
  },
  {
   "cell_type": "code",
   "execution_count": 56,
   "metadata": {},
   "outputs": [],
   "source": [
    "mask = submission_file['objective'] == \"tracking\"\n",
    "submission_file.loc[mask, 'objects'] = submission_file.loc[mask, 'frame'].map(df_group)\n"
   ]
  },
  {
   "cell_type": "code",
   "execution_count": 57,
   "metadata": {},
   "outputs": [
    {
     "data": {
      "text/html": [
       "<div>\n",
       "<style scoped>\n",
       "    .dataframe tbody tr th:only-of-type {\n",
       "        vertical-align: middle;\n",
       "    }\n",
       "\n",
       "    .dataframe tbody tr th {\n",
       "        vertical-align: top;\n",
       "    }\n",
       "\n",
       "    .dataframe thead th {\n",
       "        text-align: right;\n",
       "    }\n",
       "</style>\n",
       "<table border=\"1\" class=\"dataframe\">\n",
       "  <thead>\n",
       "    <tr style=\"text-align: right;\">\n",
       "      <th></th>\n",
       "      <th>ID</th>\n",
       "      <th>frame</th>\n",
       "      <th>objects</th>\n",
       "      <th>objective</th>\n",
       "    </tr>\n",
       "  </thead>\n",
       "  <tbody>\n",
       "    <tr>\n",
       "      <th>0</th>\n",
       "      <td>0</td>\n",
       "      <td>1.0</td>\n",
       "      <td>[{'tracked_id': 1, 'x': 948.8416748046876, 'y'...</td>\n",
       "      <td>tracking</td>\n",
       "    </tr>\n",
       "    <tr>\n",
       "      <th>1</th>\n",
       "      <td>1</td>\n",
       "      <td>2.0</td>\n",
       "      <td>[{'tracked_id': 1, 'x': 950.86181640625, 'y': ...</td>\n",
       "      <td>tracking</td>\n",
       "    </tr>\n",
       "    <tr>\n",
       "      <th>2</th>\n",
       "      <td>2</td>\n",
       "      <td>3.0</td>\n",
       "      <td>[{'tracked_id': 1, 'x': 952.3630981445312, 'y'...</td>\n",
       "      <td>tracking</td>\n",
       "    </tr>\n",
       "    <tr>\n",
       "      <th>3</th>\n",
       "      <td>3</td>\n",
       "      <td>4.0</td>\n",
       "      <td>[{'tracked_id': 1, 'x': 954.888671875, 'y': 60...</td>\n",
       "      <td>tracking</td>\n",
       "    </tr>\n",
       "    <tr>\n",
       "      <th>4</th>\n",
       "      <td>4</td>\n",
       "      <td>5.0</td>\n",
       "      <td>[{'tracked_id': 6, 'x': 664.0470581054688, 'y'...</td>\n",
       "      <td>tracking</td>\n",
       "    </tr>\n",
       "    <tr>\n",
       "      <th>...</th>\n",
       "      <td>...</td>\n",
       "      <td>...</td>\n",
       "      <td>...</td>\n",
       "      <td>...</td>\n",
       "    </tr>\n",
       "    <tr>\n",
       "      <th>5158</th>\n",
       "      <td>5158</td>\n",
       "      <td>-1.0</td>\n",
       "      <td>{'gt': 'doesn't_exist', 'image': 'test_set/998...</td>\n",
       "      <td>face_reid</td>\n",
       "    </tr>\n",
       "    <tr>\n",
       "      <th>5159</th>\n",
       "      <td>5159</td>\n",
       "      <td>-1.0</td>\n",
       "      <td>{'gt': 'doesn't_exist', 'image': 'test_set/998...</td>\n",
       "      <td>face_reid</td>\n",
       "    </tr>\n",
       "    <tr>\n",
       "      <th>5160</th>\n",
       "      <td>5160</td>\n",
       "      <td>-1.0</td>\n",
       "      <td>{'gt': 'doesn't_exist', 'image': 'test_set/998...</td>\n",
       "      <td>face_reid</td>\n",
       "    </tr>\n",
       "    <tr>\n",
       "      <th>5161</th>\n",
       "      <td>5161</td>\n",
       "      <td>-1.0</td>\n",
       "      <td>{'gt': 'doesn't_exist', 'image': 'test_set/999...</td>\n",
       "      <td>face_reid</td>\n",
       "    </tr>\n",
       "    <tr>\n",
       "      <th>5162</th>\n",
       "      <td>5162</td>\n",
       "      <td>-1.0</td>\n",
       "      <td>{'gt': 'doesn't_exist', 'image': 'test_set/999...</td>\n",
       "      <td>face_reid</td>\n",
       "    </tr>\n",
       "  </tbody>\n",
       "</table>\n",
       "<p>5163 rows × 4 columns</p>\n",
       "</div>"
      ],
      "text/plain": [
       "        ID  frame                                            objects  \\\n",
       "0        0    1.0  [{'tracked_id': 1, 'x': 948.8416748046876, 'y'...   \n",
       "1        1    2.0  [{'tracked_id': 1, 'x': 950.86181640625, 'y': ...   \n",
       "2        2    3.0  [{'tracked_id': 1, 'x': 952.3630981445312, 'y'...   \n",
       "3        3    4.0  [{'tracked_id': 1, 'x': 954.888671875, 'y': 60...   \n",
       "4        4    5.0  [{'tracked_id': 6, 'x': 664.0470581054688, 'y'...   \n",
       "...    ...    ...                                                ...   \n",
       "5158  5158   -1.0  {'gt': 'doesn't_exist', 'image': 'test_set/998...   \n",
       "5159  5159   -1.0  {'gt': 'doesn't_exist', 'image': 'test_set/998...   \n",
       "5160  5160   -1.0  {'gt': 'doesn't_exist', 'image': 'test_set/998...   \n",
       "5161  5161   -1.0  {'gt': 'doesn't_exist', 'image': 'test_set/999...   \n",
       "5162  5162   -1.0  {'gt': 'doesn't_exist', 'image': 'test_set/999...   \n",
       "\n",
       "      objective  \n",
       "0      tracking  \n",
       "1      tracking  \n",
       "2      tracking  \n",
       "3      tracking  \n",
       "4      tracking  \n",
       "...         ...  \n",
       "5158  face_reid  \n",
       "5159  face_reid  \n",
       "5160  face_reid  \n",
       "5161  face_reid  \n",
       "5162  face_reid  \n",
       "\n",
       "[5163 rows x 4 columns]"
      ]
     },
     "execution_count": 57,
     "metadata": {},
     "output_type": "execute_result"
    }
   ],
   "source": [
    "submission_file"
   ]
  },
  {
   "cell_type": "code",
   "execution_count": 59,
   "metadata": {},
   "outputs": [],
   "source": [
    "submission_file.to_csv(submission_dir / submission_name, index=None)"
   ]
  },
  {
   "cell_type": "code",
   "execution_count": null,
   "metadata": {},
   "outputs": [],
   "source": []
  },
  {
   "cell_type": "code",
   "execution_count": null,
   "metadata": {},
   "outputs": [],
   "source": []
  }
 ],
 "metadata": {
  "kernelspec": {
   "display_name": "fast_env",
   "language": "python",
   "name": "python3"
  },
  "language_info": {
   "codemirror_mode": {
    "name": "ipython",
    "version": 3
   },
   "file_extension": ".py",
   "mimetype": "text/x-python",
   "name": "python",
   "nbconvert_exporter": "python",
   "pygments_lexer": "ipython3",
   "version": "3.12.3"
  }
 },
 "nbformat": 4,
 "nbformat_minor": 2
}
